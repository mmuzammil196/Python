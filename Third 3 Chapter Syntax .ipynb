{
 "cells": [
  {
   "cell_type": "code",
   "execution_count": 1,
   "metadata": {},
   "outputs": [
    {
     "name": "stdout",
     "output_type": "stream",
     "text": [
      "Hello World\n"
     ]
    }
   ],
   "source": [
    "# Simple print command\n",
    "print(\"Hello World\")"
   ]
  },
  {
   "cell_type": "code",
   "execution_count": 2,
   "metadata": {},
   "outputs": [
    {
     "name": "stdout",
     "output_type": "stream",
     "text": [
      "Five is greater than two!\n"
     ]
    }
   ],
   "source": [
    "# Python Indentation\n",
    "# Indentation means the space in beginning the line of code.\n",
    "if 5>2:\n",
    "    print(\"Five is greater than two!\")\n",
    "# If you donot keep the indentation then python show the error and output will not generate.\n",
    "# if 5>2:\n",
    "# print(\"Five is greater than two!\") Error show indentation "
   ]
  },
  {
   "cell_type": "code",
   "execution_count": 3,
   "metadata": {},
   "outputs": [
    {
     "name": "stdout",
     "output_type": "stream",
     "text": [
      "Hello, World\n",
      "Hello\n"
     ]
    }
   ],
   "source": [
    "# PYTHON COMMENTS\n",
    "# we use comment in python for describe the code. it will help you to easily read the code.\n",
    "# one comment make\n",
    "\n",
    "# This is a comment\n",
    "print(\"Hello, World\")\n",
    "print(\"Hello\") # we write comment in this line"
   ]
  },
  {
   "cell_type": "code",
   "execution_count": 4,
   "metadata": {},
   "outputs": [
    {
     "name": "stdout",
     "output_type": "stream",
     "text": [
      "Hello, World\n"
     ]
    }
   ],
   "source": [
    "# Multi comments\n",
    "# This is a\n",
    "# comment writthen in\n",
    "#  more than one line\n",
    "print(\"Hello, World\")"
   ]
  },
  {
   "cell_type": "code",
   "execution_count": 5,
   "metadata": {},
   "outputs": [],
   "source": [
    "# Assignment Statement\n",
    "# It is basic in python . we keep object through one expression"
   ]
  },
  {
   "cell_type": "code",
   "execution_count": 6,
   "metadata": {},
   "outputs": [
    {
     "name": "stdout",
     "output_type": "stream",
     "text": [
      "Value 543.75\n"
     ]
    }
   ],
   "source": [
    "# Basic Assignments\n",
    "# We make variables or change through basic assignment. \n",
    "# Its show one expression and provide a variable name. \n",
    "# we use label for the expression of value.\n",
    "\n",
    "# Computer the value of a block of shock.\n",
    "shares = 150\n",
    "price = 3 + 5.0 / 8.0\n",
    "value = shares * price\n",
    "print(\"Value\", value)"
   ]
  },
  {
   "cell_type": "code",
   "execution_count": 8,
   "metadata": {},
   "outputs": [
    {
     "name": "stdout",
     "output_type": "stream",
     "text": [
      "Portfolio 376.125\n"
     ]
    }
   ],
   "source": [
    "# a += v this is equal to a = a + v\n",
    "# Total value of a portfolio made up of two blocks of shock.\n",
    "portfolio = 0\n",
    "portfolio += 150 * 2 + 1 / 4.0\n",
    "portfolio += 75 * 1 + 7 / 8.0\n",
    "print(\"Portfolio\", portfolio)"
   ]
  },
  {
   "cell_type": "code",
   "execution_count": 9,
   "metadata": {},
   "outputs": [],
   "source": [
    "# PEMDAS \n",
    "# P means first appropriate \"brackets\"\n",
    "# E means second appropriate \"Exponents\" \n",
    "# M means third appropriate \"Multiplication\"\n",
    "# D means fourth appropriate \"Division\"\n",
    "# A means fifth appropriate \"Addition\"\n",
    "# S means sixth appropriate \"Subtraction\""
   ]
  },
  {
   "cell_type": "code",
   "execution_count": 10,
   "metadata": {},
   "outputs": [],
   "source": [
    "# Rule of Python (Variables)\n",
    "# 1. One variable name start with in the beginning is always any letter or underscore character(_)\n",
    "# 2. In the name of variables you only use Alpha-numeric-letter (A-z, 0,9) or Underscore(_) \n",
    "# 3. Name of variable is Case-Sensetive . For Example (Age, age, and age) are different variable.\n",
    "# 4. In python you don't declare the  variable before. you only provide name of varaibe and provide value.\n",
    "# For Example : - a = 2\n",
    "# In this example variable name is a and value is 2."
   ]
  },
  {
   "cell_type": "code",
   "execution_count": 11,
   "metadata": {},
   "outputs": [
    {
     "name": "stdout",
     "output_type": "stream",
     "text": [
      "Orange\n",
      "Banana\n",
      "Apple\n"
     ]
    }
   ],
   "source": [
    "# In python you can set more than one variables and provide value of both in one line.\n",
    "# for example \n",
    "x,y,z = \"Orange\", \"Banana\", \"Apple\"\n",
    "print(x)\n",
    "print(y)\n",
    "print(z)"
   ]
  },
  {
   "cell_type": "code",
   "execution_count": 12,
   "metadata": {},
   "outputs": [
    {
     "name": "stdout",
     "output_type": "stream",
     "text": [
      "Orange\n",
      "Orange\n",
      "Orange\n"
     ]
    }
   ],
   "source": [
    "# In python you will set same or one value in more than one varables.\n",
    "# for example\n",
    "x = y = z = \"Orange\" \n",
    "print(x)\n",
    "print(y)\n",
    "print(z)"
   ]
  },
  {
   "cell_type": "code",
   "execution_count": 14,
   "metadata": {},
   "outputs": [
    {
     "name": "stdout",
     "output_type": "stream",
     "text": [
      "10\n"
     ]
    }
   ],
   "source": [
    "# If you want to add two integer variable then python take by default numeric_type and add both of them.\n",
    "# For example\n",
    "first_number = 4\n",
    "second_number = 6\n",
    "summation = first_number + second_number\n",
    "print(summation)"
   ]
  },
  {
   "cell_type": "code",
   "execution_count": null,
   "metadata": {},
   "outputs": [],
   "source": []
  }
 ],
 "metadata": {
  "kernelspec": {
   "display_name": "Python 3",
   "language": "python",
   "name": "python3"
  },
  "language_info": {
   "codemirror_mode": {
    "name": "ipython",
    "version": 3
   },
   "file_extension": ".py",
   "mimetype": "text/x-python",
   "name": "python",
   "nbconvert_exporter": "python",
   "pygments_lexer": "ipython3",
   "version": "3.8.5"
  }
 },
 "nbformat": 4,
 "nbformat_minor": 4
}
